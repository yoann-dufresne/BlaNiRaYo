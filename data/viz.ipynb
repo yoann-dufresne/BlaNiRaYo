{
 "cells": [
  {
   "cell_type": "code",
   "execution_count": 1,
   "metadata": {},
   "outputs": [
    {
     "name": "stdout",
     "output_type": "stream",
     "text": [
      "a_example.txt\n",
      "6 books\n",
      "2 libraries\n",
      "7 days\n",
      "scores [1, 2, 3, 6, 5, 4] ..\n",
      "0\n",
      "--\n",
      "\n",
      "b_read_on.txt\n",
      "100000 books\n",
      "100 libraries\n",
      "1000 days\n",
      "scores [100, 100, 100, 100, 100, 100, 100, 100, 100, 100] ..\n",
      "0\n",
      "--\n",
      "\n",
      "c_incunabula.txt\n",
      "100000 books\n",
      "10000 libraries\n",
      "100000 days\n",
      "scores [524, 235, 342, 133, 537, 438, 97, 198, 104, 100] ..\n",
      "0\n",
      "--\n",
      "\n",
      "d_tough_choices.txt\n",
      "78600 books\n",
      "30000 libraries\n",
      "30001 days\n",
      "scores [65, 65, 65, 65, 65, 65, 65, 65, 65, 65] ..\n",
      "0\n",
      "--\n",
      "\n",
      "e_so_many_books.txt\n",
      "100000 books\n",
      "1000 libraries\n",
      "200 days\n",
      "scores [51, 127, 187, 161, 26, 140, 160, 180, 207, 164] ..\n",
      "0\n",
      "--\n",
      "\n",
      "f_libraries_of_the_world.txt\n",
      "100000 books\n",
      "1000 libraries\n",
      "700 days\n",
      "scores [277, 467, 206, 176, 115, 41, 251, 677, 367, 307] ..\n",
      "0\n",
      "--\n",
      "\n"
     ]
    }
   ],
   "source": [
    "from src_2020.Parser import parse\n",
    "\n",
    "def examine(filename):\n",
    "    nb_books, nb_lib, nb_days, scores, libs = parse(filename)\n",
    "    print(filename)\n",
    "    print(nb_books,\"books\")\n",
    "    print(nb_lib,\"libraries\")\n",
    "    print(nb_days,\"days\")\n",
    "    print(\"scores\",scores[:10],\"..\")\n",
    "    print(libs[0].interest1(1))\n",
    "    print(\"--\\n\")\n",
    "    \n",
    "examine(\"a_example.txt\")\n",
    "examine(\"b_read_on.txt\")\n",
    "examine(\"c_incunabula.txt\")\n",
    "examine(\"d_tough_choices.txt\")\n",
    "examine(\"e_so_many_books.txt\")\n",
    "examine(\"f_libraries_of_the_world.txt\")\n"
   ]
  },
  {
   "cell_type": "code",
   "execution_count": null,
   "metadata": {},
   "outputs": [],
   "source": []
  }
 ],
 "metadata": {
  "kernelspec": {
   "display_name": "Python 3",
   "language": "python",
   "name": "python3"
  },
  "language_info": {
   "codemirror_mode": {
    "name": "ipython",
    "version": 3
   },
   "file_extension": ".py",
   "mimetype": "text/x-python",
   "name": "python",
   "nbconvert_exporter": "python",
   "pygments_lexer": "ipython3",
   "version": "3.6.9"
  }
 },
 "nbformat": 4,
 "nbformat_minor": 2
}
