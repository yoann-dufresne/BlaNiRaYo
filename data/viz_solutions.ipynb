{
 "cells": [
  {
   "cell_type": "code",
   "execution_count": 5,
   "metadata": {},
   "outputs": [],
   "source": [
    "from src_2020.Parser import parse\n",
    "import sys\n",
    "\n",
    "def load_solution(input_file, solution_file):\n",
    "    _, _, nb_days, scores, libs, books = parse(input_file)\n",
    "    all_books = set()\n",
    "    libraries_used = set()\n",
    "    day = 0\n",
    "    all_lines = open(solution_file).read().split('\\n')\n",
    "    est_nb_libs = len(all_lines)-1 // 2\n",
    "    lib_order = []\n",
    "    for i, line in enumerate(all_lines):\n",
    "        if len(line.strip()) == 0: break\n",
    "        if i == 0:\n",
    "            nb_libraries = int(line)\n",
    "            continue\n",
    "        if i%2 == 1:\n",
    "            library_id, nb_books = map(int,line.strip().split())\n",
    "\n",
    "            # safety check\n",
    "            if library_id in libraries_used:\n",
    "                print(\"warning! library %d used twice\" % library_id)\n",
    "            libraries_used.add(library_id)\n",
    "        else:\n",
    "            lib_books = list(map(int,line.strip().split()))\n",
    "            \n",
    "        \n",
    "            # set the solution\n",
    "            libs[library_id].signup_on = day\n",
    "            libs[library_id].books_to_scan = lib_books\n",
    "            lib_order += [(library_id, day)]\n",
    "            \n",
    "            day += libs[library_id].signup\n",
    "            #print(\"library\",library_id,\"nb_books\",nb_books)\n",
    "            #print(\"books:\",lib_books)\n",
    "            all_books |= set(lib_books)\n",
    "            remaining_days = nb_days - day\n",
    "            if len(lib_books) > remaining_days * libs[library_id].ship:\n",
    "                print(\"warning! library\",library_id,\"(number %d/%d in solution)\" % (i//2,est_nb_libs),\"with capacity\",libs[library_id].ship,\"outputs more books than it has time for (%d > %d)\" % (len(lib_books), remaining_days * libs[library_id].ship))\n",
    "\n",
    "    print(len(all_books),\"books total were selected, \",remaining_days,\"unused signup day(s)\")\n",
    "    return libs, lib_order, nb_days"
   ]
  },
  {
   "cell_type": "code",
   "execution_count": 9,
   "metadata": {},
   "outputs": [
    {
     "name": "stdout",
     "output_type": "stream",
     "text": [
      "12871 books total were selected,  6 unused signup day(s)\n"
     ]
    }
   ],
   "source": [
    "#libs, lib_order, nb_days = load_solution(\"a_example.txt\",\"../res_2020/a_sol.txt\")\n",
    "#libs, lib_order, nb_days = load_solution(\"b_read_on.txt\",\"../res_2020/b_sol.txt\")\n",
    "#libs, lib_order, nb_days = load_solution(\"c_incunabula.txt\",\"../res_2020/c_sol.txt\")\n",
    "#libs, lib_order, nb_days = load_solution(\"d_tough_choices.txt\",\"../res_2020/d_sol.txt\")\n",
    "#libs, lib_order, nb_days = load_solution(\"e_so_many_books.txt\",\"../res_2020/e_sol.txt\")\n",
    "libs, lib_order, nb_days = load_solution(\"f_libraries_of_the_world.txt\",\"../res_2020/f_sol.txt\")"
   ]
  },
  {
   "cell_type": "code",
   "execution_count": 10,
   "metadata": {},
   "outputs": [],
   "source": [
    "%matplotlib inline\n",
    "import seaborn as sns\n",
    "import pandas as pd\n",
    "\n",
    "#libs = libs[:100]\n",
    "\n",
    "df = pd.DataFrame()\n",
    "df['id'] = [lib.ide for lib in libs]\n",
    "df['signup_on'] = [lib.signup_on for lib in libs]\n",
    "df['signup'] = [lib.signup for lib in libs]\n",
    "df['nb_books'] = [len(lib.books) for lib in libs]\n",
    "lib_signedup_rank=dict([(library_id,i) for (i,(library_id,day)) in enumerate(lib_order)])\n",
    "df['signup_rank'] = [lib_signedup_rank[i] if i in lib_signedup_rank else -1 for i in range(len(libs))]\n",
    "df.set_index('id',drop=True)\n",
    "df = df.sort_values(['signup_on']) # sort by signup-on time\n",
    "df = df[df['signup_on'] != -1] # select only selected libs\n"
   ]
  },
  {
   "cell_type": "code",
   "execution_count": 8,
   "metadata": {},
   "outputs": [
    {
     "data": {
      "image/png": "[encoded data removed]",
      "text/plain": [
       "<Figure size 720x720 with 1 Axes>"
      ]
     },
     "metadata": {},
     "output_type": "display_data"
    }
   ],
   "source": [
    "import matplotlib.pyplot as plt\n",
    "import numpy as np\n",
    "plt.figure(figsize=(10,10))\n",
    "ax = sns.scatterplot(x=\"signup_on\", y=\"signup_rank\", data=df)\n",
    "ax.set(xlabel='day', ylabel='library',xlim=(0,nb_days+1))\n",
    "ax.set_title(\"libraries and their scanning times, day by day\")\n",
    "\n",
    "from matplotlib import collections  as mc\n",
    "\n",
    "# draw signup times\n",
    "lines = [[(lib.signup_on, lib_signedup_rank[lib.ide]), (lib.signup_on + lib.signup, lib_signedup_rank[lib.ide])] for lib in libs if lib.ide in lib_signedup_rank]\n",
    "lc = mc.LineCollection(lines, colors='black', linewidths=1.5)    \n",
    "ax.add_collection(lc)\n",
    "# and more importantly, draw the time it takes to scan the books\n",
    "lines = [[(lib.signup_on+ lib.signup, lib_signedup_rank[lib.ide]), (lib.signup_on + lib.signup + len(lib.books_to_scan)/lib.ship, lib_signedup_rank[lib.ide])] for lib in libs if lib.ide in lib_signedup_rank]\n",
    "lc = mc.LineCollection(lines, colors='lightgray', linewidths=1.5)    \n",
    "ax.add_collection(lc)\n",
    "#print(sorted(lines))\n",
    "\n",
    "# sanity check, if any lib is not scanned until the end, report it here\n",
    "for lib in libs:\n",
    "    if lib.signup_on != -1:\n",
    "        if (lib.signup_on + lib.signup + len(lib.books_to_scan)/lib.ship) != 200:\n",
    "            print(\"lib\",lib.ide,\"is only scanned until\",lib.signup_on + lib.signup + len(lib.books_to_scan)/lib.ship)\n",
    "None"
   ]
  },
  {
   "cell_type": "code",
   "execution_count": null,
   "metadata": {},
   "outputs": [],
   "source": []
  },
  {
   "cell_type": "code",
   "execution_count": null,
   "metadata": {},
   "outputs": [],
   "source": []
  },
  {
   "cell_type": "code",
   "execution_count": null,
   "metadata": {},
   "outputs": [],
   "source": []
  }
 ],
 "metadata": {
  "kernelspec": {
   "display_name": "Python 3",
   "language": "python",
   "name": "python3"
  },
  "language_info": {
   "codemirror_mode": {
    "name": "ipython",
    "version": 3
   },
   "file_extension": ".py",
   "mimetype": "text/x-python",
   "name": "python",
   "nbconvert_exporter": "python",
   "pygments_lexer": "ipython3",
   "version": "3.6.9"
  }
 },
 "nbformat": 4,
 "nbformat_minor": 2
}
